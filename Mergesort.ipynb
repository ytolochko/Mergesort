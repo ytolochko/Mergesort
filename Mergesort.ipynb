{
 "cells": [
  {
   "cell_type": "code",
   "execution_count": 20,
   "metadata": {
    "collapsed": false,
    "scrolled": true
   },
   "outputs": [
    {
     "name": "stdout",
     "output_type": "stream",
     "text": [
      "Original sequence: [4, 1, 3, 2, 5, 6, 7, 8, 310, 4, 125, 1785]\n",
      "Sorted sequence: [1, 2, 3, 4, 4, 5, 6, 7, 8, 125, 310, 1785]\n"
     ]
    }
   ],
   "source": [
    "#     Mergesort sorting algorithm\n",
    "\n",
    "#     Orders the input x using the mergesort algorithm\n",
    "def mergesort(x):\n",
    "    \n",
    "    out = []\n",
    "    if len(x) < 2:\n",
    "        return x\n",
    "    mid = int(len(x)/2)\n",
    "    l = mergesort(x[:mid])\n",
    "    r = mergesort(x[mid:])\n",
    "    i = 0\n",
    "    j = 0\n",
    "    while i < len(l) and j < len(r):\n",
    "            if l[i] > r[j]:\n",
    "                out.append(r[j])\n",
    "                j += 1\n",
    "            else:\n",
    "                out.append(l[i])\n",
    "                i += 1\n",
    "    out += l[i:]\n",
    "    out += r[j:]\n",
    "    return out\n",
    "\n",
    "\n",
    "\n",
    "\n",
    "#    Finds a given integer n in the list of integers x. Returns True if found, and False if not.\n",
    "def search(n, x):\n",
    "    \n",
    "    found = False\n",
    "    x = mergesort(x)\n",
    "    start = 0\n",
    "    end = len(x) - 1\n",
    "    while not found:\n",
    "        mid = (start + end)//2\n",
    "        if x[mid] == n:\n",
    "            found = True\n",
    "        else:   #\n",
    "            if n > x[mid]:\n",
    "                start = mid + 1\n",
    "            elif n < x[mid]:\n",
    "                end = mid - 1\n",
    "            if end < start:\n",
    "                return False\n",
    "    return found\n",
    "\n",
    "#   An example of a sequence and its sorted version\n",
    "seq = [4,1,3,2,5,6,7,8,310,4,125,1785]\n",
    "print('Original sequence:',seq)\n",
    "print('Sorted sequence:', mergesort (seq))"
   ]
  },
  {
   "cell_type": "code",
   "execution_count": null,
   "metadata": {
    "collapsed": true
   },
   "outputs": [],
   "source": []
  }
 ],
 "metadata": {
  "kernelspec": {
   "display_name": "Python [default]",
   "language": "python",
   "name": "python3"
  },
  "language_info": {
   "codemirror_mode": {
    "name": "ipython",
    "version": 3
   },
   "file_extension": ".py",
   "mimetype": "text/x-python",
   "name": "python",
   "nbconvert_exporter": "python",
   "pygments_lexer": "ipython3",
   "version": "3.5.2"
  }
 },
 "nbformat": 4,
 "nbformat_minor": 1
}
